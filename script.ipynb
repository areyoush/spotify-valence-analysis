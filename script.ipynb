{
 "cells": [
  {
   "cell_type": "code",
   "execution_count": 1,
   "id": "410ac7af-a9c0-4283-a9c9-43fd871b1a4c",
   "metadata": {},
   "outputs": [],
   "source": [
    "#Importing required libraries\n",
    "import spotipy \n",
    "from spotipy.oauth2 import SpotifyOAuth\n",
    "import seaborn as sns\n",
    "import matplotlib.pyplot as plt"
   ]
  },
  {
   "cell_type": "code",
   "execution_count": null,
   "id": "81e1e60e-2fec-4cf5-9383-b564885f0833",
   "metadata": {},
   "outputs": [],
   "source": [
    "#Initialize Spotipy with your Spotify API Creds\n",
    "sp = spotipy.Spotify(auth_manager=SpotifyOAuth(client_id='',\n",
    "                                               client_secret='',\n",
    "                                               redirect_uri='',\n",
    "                                               scope=''))"
   ]
  },
  {
   "cell_type": "code",
   "execution_count": null,
   "id": "f518213f-26ed-43a5-a8f0-db1180d41cdd",
   "metadata": {},
   "outputs": [],
   "source": [
    "#Defining threshold values for positiveness and negativeness\n",
    "threshold = 0.5"
   ]
  },
  {
   "cell_type": "code",
   "execution_count": null,
   "id": "d194f100-dc4b-4399-a36b-d6cbdc58d807",
   "metadata": {},
   "outputs": [],
   "source": [
    "#Defining a function to get the valence of a song by track name and artist\n",
    "def get_valence(track_name, artist_name):\n",
    "    results = sp.search(q=f\"track:{track_name} artist:{artist_name}\", type=\"track\", limit=1)\n",
    "\n",
    "    if results['tracks']['items']:\n",
    "        track = results['tracks']['items'][0]\n",
    "        track_id = track['id']\n",
    "\n",
    "        audio_features = sp.audio_features([track_id])\n",
    "\n",
    "        valence = audio_features[0]['valence']\n",
    "\n",
    "        return valence\n",
    "    else:\n",
    "        return None\n",
    "\n"
   ]
  },
  {
   "cell_type": "code",
   "execution_count": null,
   "id": "d3f67672-0c83-4ce8-b76e-643765cb87fd",
   "metadata": {},
   "outputs": [],
   "source": [
    "#Defining a fucntion to fetch the valence values of 50 most recently played tracks\n",
    "def get_recently_played_valence():\n",
    "    try:\n",
    "        recently_played = sp.current_user_recently_played(limit=50)\n",
    "\n",
    "        positive_song_count = 0\n",
    "        negative_song_count = 0\n",
    "\n",
    "        for item in recently_played['items']:\n",
    "            track =item['track']\n",
    "            track_name = item['name']\n",
    "            artist_name = track['artists'][0]['name']\n",
    "\n",
    "            valence = get_valence(track_name, artist_name)\n",
    "\n",
    "            if valence >= threshold:\n",
    "                positive_song_count += 1\n",
    "            elif valence <= threshold:\n",
    "                negative_song_count += 1\n",
    "        return positive_song_count"
   ]
  },
  {
   "cell_type": "code",
   "execution_count": null,
   "id": "3994a02c-7c6d-458f-aad2-49d1dedd24d5",
   "metadata": {},
   "outputs": [],
   "source": [
    "positive_count, negative_count = get_recently_played_valence()\n",
    "\n",
    "if positive_count is not None and negativcount is not None:\n",
    "    total_songs = positive_count + negative_count"
   ]
  },
  {
   "cell_type": "code",
   "execution_count": null,
   "id": "4ab5532f-53ac-471a-bf59-68844d5203c1",
   "metadata": {},
   "outputs": [],
   "source": [
    "#Create a pie chart using Seaborn\n",
    "    labels = ['Positive Songs', 'Negative Songs']\n",
    "    sizes = [positive_count, negative_count]\n",
    "    colors = ['skyblue', 'lightcoral']\n",
    "\n",
    "     plt.figure(figsize=(8, 6))\n",
    "    plt.pie(sizes, labels=labels, colors=colors, autopct='%1.1f%%', startangle=140)\n",
    "    plt.title(\"Percentage of Positive and Negative Songs\")\n",
    "    plt.axis('equal')  \n",
    "    plt.show()\n",
    "else:\n",
    "    print(\"No recently played tracks found.\")"
   ]
  }
 ],
 "metadata": {
  "kernelspec": {
   "display_name": "Python 3 (ipykernel)",
   "language": "python",
   "name": "python3"
  },
  "language_info": {
   "codemirror_mode": {
    "name": "ipython",
    "version": 3
   },
   "file_extension": ".py",
   "mimetype": "text/x-python",
   "name": "python",
   "nbconvert_exporter": "python",
   "pygments_lexer": "ipython3",
   "version": "3.12.0"
  }
 },
 "nbformat": 4,
 "nbformat_minor": 5
}
